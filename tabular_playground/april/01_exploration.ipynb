{
 "cells": [
  {
   "cell_type": "code",
   "execution_count": 1,
   "id": "d4b51ff0",
   "metadata": {},
   "outputs": [],
   "source": [
    "import pandas as pd\n",
    "import numpy as np\n",
    "\n",
    "import tubesml as tml\n",
    "\n",
    "import matplotlib.pyplot as plt\n",
    "import seaborn as sns\n",
    "%matplotlib inline\n",
    "\n",
    "pd.set_option('max_columns', 100)"
   ]
  },
  {
   "cell_type": "code",
   "execution_count": 2,
   "id": "4e932999",
   "metadata": {},
   "outputs": [
    {
     "data": {
      "text/html": [
       "<div>\n",
       "<style scoped>\n",
       "    .dataframe tbody tr th:only-of-type {\n",
       "        vertical-align: middle;\n",
       "    }\n",
       "\n",
       "    .dataframe tbody tr th {\n",
       "        vertical-align: top;\n",
       "    }\n",
       "\n",
       "    .dataframe thead th {\n",
       "        text-align: right;\n",
       "    }\n",
       "</style>\n",
       "<table border=\"1\" class=\"dataframe\">\n",
       "  <thead>\n",
       "    <tr style=\"text-align: right;\">\n",
       "      <th></th>\n",
       "      <th>PassengerId</th>\n",
       "      <th>Survived</th>\n",
       "      <th>Pclass</th>\n",
       "      <th>Name</th>\n",
       "      <th>Sex</th>\n",
       "      <th>Age</th>\n",
       "      <th>SibSp</th>\n",
       "      <th>Parch</th>\n",
       "      <th>Ticket</th>\n",
       "      <th>Fare</th>\n",
       "      <th>Cabin</th>\n",
       "      <th>Embarked</th>\n",
       "    </tr>\n",
       "  </thead>\n",
       "  <tbody>\n",
       "    <tr>\n",
       "      <th>0</th>\n",
       "      <td>0</td>\n",
       "      <td>1</td>\n",
       "      <td>1</td>\n",
       "      <td>Oconnor, Frankie</td>\n",
       "      <td>male</td>\n",
       "      <td>NaN</td>\n",
       "      <td>2</td>\n",
       "      <td>0</td>\n",
       "      <td>209245</td>\n",
       "      <td>27.14</td>\n",
       "      <td>C12239</td>\n",
       "      <td>S</td>\n",
       "    </tr>\n",
       "    <tr>\n",
       "      <th>1</th>\n",
       "      <td>1</td>\n",
       "      <td>0</td>\n",
       "      <td>3</td>\n",
       "      <td>Bryan, Drew</td>\n",
       "      <td>male</td>\n",
       "      <td>NaN</td>\n",
       "      <td>0</td>\n",
       "      <td>0</td>\n",
       "      <td>27323</td>\n",
       "      <td>13.35</td>\n",
       "      <td>NaN</td>\n",
       "      <td>S</td>\n",
       "    </tr>\n",
       "    <tr>\n",
       "      <th>2</th>\n",
       "      <td>2</td>\n",
       "      <td>0</td>\n",
       "      <td>3</td>\n",
       "      <td>Owens, Kenneth</td>\n",
       "      <td>male</td>\n",
       "      <td>0.33</td>\n",
       "      <td>1</td>\n",
       "      <td>2</td>\n",
       "      <td>CA 457703</td>\n",
       "      <td>71.29</td>\n",
       "      <td>NaN</td>\n",
       "      <td>S</td>\n",
       "    </tr>\n",
       "    <tr>\n",
       "      <th>3</th>\n",
       "      <td>3</td>\n",
       "      <td>0</td>\n",
       "      <td>3</td>\n",
       "      <td>Kramer, James</td>\n",
       "      <td>male</td>\n",
       "      <td>19.00</td>\n",
       "      <td>0</td>\n",
       "      <td>0</td>\n",
       "      <td>A. 10866</td>\n",
       "      <td>13.04</td>\n",
       "      <td>NaN</td>\n",
       "      <td>S</td>\n",
       "    </tr>\n",
       "    <tr>\n",
       "      <th>4</th>\n",
       "      <td>4</td>\n",
       "      <td>1</td>\n",
       "      <td>3</td>\n",
       "      <td>Bond, Michael</td>\n",
       "      <td>male</td>\n",
       "      <td>25.00</td>\n",
       "      <td>0</td>\n",
       "      <td>0</td>\n",
       "      <td>427635</td>\n",
       "      <td>7.76</td>\n",
       "      <td>NaN</td>\n",
       "      <td>S</td>\n",
       "    </tr>\n",
       "  </tbody>\n",
       "</table>\n",
       "</div>"
      ],
      "text/plain": [
       "   PassengerId  Survived  Pclass              Name   Sex    Age  SibSp  Parch  \\\n",
       "0            0         1       1  Oconnor, Frankie  male    NaN      2      0   \n",
       "1            1         0       3       Bryan, Drew  male    NaN      0      0   \n",
       "2            2         0       3    Owens, Kenneth  male   0.33      1      2   \n",
       "3            3         0       3     Kramer, James  male  19.00      0      0   \n",
       "4            4         1       3     Bond, Michael  male  25.00      0      0   \n",
       "\n",
       "      Ticket   Fare   Cabin Embarked  \n",
       "0     209245  27.14  C12239        S  \n",
       "1      27323  13.35     NaN        S  \n",
       "2  CA 457703  71.29     NaN        S  \n",
       "3   A. 10866  13.04     NaN        S  \n",
       "4     427635   7.76     NaN        S  "
      ]
     },
     "execution_count": 2,
     "metadata": {},
     "output_type": "execute_result"
    }
   ],
   "source": [
    "df_train = pd.read_csv('data/train.csv')\n",
    "\n",
    "df_train.head()"
   ]
  },
  {
   "cell_type": "code",
   "execution_count": 3,
   "id": "ad90b7c0",
   "metadata": {},
   "outputs": [
    {
     "data": {
      "text/html": [
       "<div>\n",
       "<style scoped>\n",
       "    .dataframe tbody tr th:only-of-type {\n",
       "        vertical-align: middle;\n",
       "    }\n",
       "\n",
       "    .dataframe tbody tr th {\n",
       "        vertical-align: top;\n",
       "    }\n",
       "\n",
       "    .dataframe thead th {\n",
       "        text-align: right;\n",
       "    }\n",
       "</style>\n",
       "<table border=\"1\" class=\"dataframe\">\n",
       "  <thead>\n",
       "    <tr style=\"text-align: right;\">\n",
       "      <th></th>\n",
       "      <th>PassengerId</th>\n",
       "      <th>Pclass</th>\n",
       "      <th>Name</th>\n",
       "      <th>Sex</th>\n",
       "      <th>Age</th>\n",
       "      <th>SibSp</th>\n",
       "      <th>Parch</th>\n",
       "      <th>Ticket</th>\n",
       "      <th>Fare</th>\n",
       "      <th>Cabin</th>\n",
       "      <th>Embarked</th>\n",
       "    </tr>\n",
       "  </thead>\n",
       "  <tbody>\n",
       "    <tr>\n",
       "      <th>0</th>\n",
       "      <td>100000</td>\n",
       "      <td>3</td>\n",
       "      <td>Holliday, Daniel</td>\n",
       "      <td>male</td>\n",
       "      <td>19.0</td>\n",
       "      <td>0</td>\n",
       "      <td>0</td>\n",
       "      <td>24745</td>\n",
       "      <td>63.01</td>\n",
       "      <td>NaN</td>\n",
       "      <td>S</td>\n",
       "    </tr>\n",
       "    <tr>\n",
       "      <th>1</th>\n",
       "      <td>100001</td>\n",
       "      <td>3</td>\n",
       "      <td>Nguyen, Lorraine</td>\n",
       "      <td>female</td>\n",
       "      <td>53.0</td>\n",
       "      <td>0</td>\n",
       "      <td>0</td>\n",
       "      <td>13264</td>\n",
       "      <td>5.81</td>\n",
       "      <td>NaN</td>\n",
       "      <td>S</td>\n",
       "    </tr>\n",
       "    <tr>\n",
       "      <th>2</th>\n",
       "      <td>100002</td>\n",
       "      <td>1</td>\n",
       "      <td>Harris, Heather</td>\n",
       "      <td>female</td>\n",
       "      <td>19.0</td>\n",
       "      <td>0</td>\n",
       "      <td>0</td>\n",
       "      <td>25990</td>\n",
       "      <td>38.91</td>\n",
       "      <td>B15315</td>\n",
       "      <td>C</td>\n",
       "    </tr>\n",
       "    <tr>\n",
       "      <th>3</th>\n",
       "      <td>100003</td>\n",
       "      <td>2</td>\n",
       "      <td>Larsen, Eric</td>\n",
       "      <td>male</td>\n",
       "      <td>25.0</td>\n",
       "      <td>0</td>\n",
       "      <td>0</td>\n",
       "      <td>314011</td>\n",
       "      <td>12.93</td>\n",
       "      <td>NaN</td>\n",
       "      <td>S</td>\n",
       "    </tr>\n",
       "    <tr>\n",
       "      <th>4</th>\n",
       "      <td>100004</td>\n",
       "      <td>1</td>\n",
       "      <td>Cleary, Sarah</td>\n",
       "      <td>female</td>\n",
       "      <td>17.0</td>\n",
       "      <td>0</td>\n",
       "      <td>2</td>\n",
       "      <td>26203</td>\n",
       "      <td>26.89</td>\n",
       "      <td>B22515</td>\n",
       "      <td>C</td>\n",
       "    </tr>\n",
       "  </tbody>\n",
       "</table>\n",
       "</div>"
      ],
      "text/plain": [
       "   PassengerId  Pclass              Name     Sex   Age  SibSp  Parch  Ticket  \\\n",
       "0       100000       3  Holliday, Daniel    male  19.0      0      0   24745   \n",
       "1       100001       3  Nguyen, Lorraine  female  53.0      0      0   13264   \n",
       "2       100002       1   Harris, Heather  female  19.0      0      0   25990   \n",
       "3       100003       2      Larsen, Eric    male  25.0      0      0  314011   \n",
       "4       100004       1     Cleary, Sarah  female  17.0      0      2   26203   \n",
       "\n",
       "    Fare   Cabin Embarked  \n",
       "0  63.01     NaN        S  \n",
       "1   5.81     NaN        S  \n",
       "2  38.91  B15315        C  \n",
       "3  12.93     NaN        S  \n",
       "4  26.89  B22515        C  "
      ]
     },
     "execution_count": 3,
     "metadata": {},
     "output_type": "execute_result"
    }
   ],
   "source": [
    "df_test = pd.read_csv('data/test.csv')\n",
    "\n",
    "df_test.head()"
   ]
  },
  {
   "cell_type": "code",
   "execution_count": 4,
   "id": "978507f1",
   "metadata": {},
   "outputs": [
    {
     "name": "stdout",
     "output_type": "stream",
     "text": [
      "Column Age: 3.29% missing\n",
      "Column Ticket: 4.62% missing\n",
      "Column Fare: 0.13% missing\n",
      "Column Cabin: 67.87% missing\n",
      "Column Embarked: 0.25% missing\n",
      "________________________________________\n",
      "Column Age: 3.49% missing\n",
      "Column Ticket: 5.18% missing\n",
      "Column Fare: 0.13% missing\n",
      "Column Cabin: 70.83% missing\n",
      "Column Embarked: 0.28% missing\n"
     ]
    }
   ],
   "source": [
    "_ = tml.list_missing(df_train)\n",
    "print('_'*40)\n",
    "_ = tml.list_missing(df_test)"
   ]
  },
  {
   "cell_type": "code",
   "execution_count": 5,
   "id": "3e27586d",
   "metadata": {},
   "outputs": [],
   "source": [
    "def plot_frame(ax):\n",
    "    ax.set_facecolor('#292525')\n",
    "    ax.spines['bottom'].set_color('w')\n",
    "    ax.tick_params(axis='x', colors='w')\n",
    "    ax.xaxis.label.set_color('w')\n",
    "    ax.spines['left'].set_color('w')\n",
    "    ax.tick_params(axis='y', colors='w')\n",
    "    ax.yaxis.label.set_color('w')\n",
    "    return ax"
   ]
  },
  {
   "cell_type": "code",
   "execution_count": 6,
   "id": "4653680b",
   "metadata": {},
   "outputs": [
    {
     "name": "stderr",
     "output_type": "stream",
     "text": [
      "/home/lucabasa/Git/kaggle_competitions/tabular_playground/tabplay/lib/python3.8/site-packages/pandas/plotting/_matplotlib/tools.py:400: MatplotlibDeprecationWarning: \n",
      "The is_first_col function was deprecated in Matplotlib 3.4 and will be removed two minor releases later. Use ax.get_subplotspec().is_first_col() instead.\n",
      "  if ax.is_first_col():\n"
     ]
    },
    {
     "data": {
      "image/png": "[encoded data removed]",
      "text/plain": [
       "<Figure size 1008x1800 with 10 Axes>"
      ]
     },
     "metadata": {},
     "output_type": "display_data"
    }
   ],
   "source": [
    "fig, ax = plt.subplots(5, 2, figsize=(14, 25), facecolor='#292525', sharey=True)\n",
    "\n",
    "i=0\n",
    "\n",
    "for col in ['Pclass', 'Sex', 'SibSp', 'Parch', 'Embarked']:\n",
    "    df_train[col].value_counts(dropna=False, normalize=True).sort_index().plot(kind='bar', ax=ax[i][0], color='#C3C92E')\n",
    "    df_test[col].value_counts(dropna=False, normalize=True).sort_index().plot(kind='bar', ax=ax[i][1], color='#C93D2E')\n",
    "    ax[i][0] = plot_frame(ax[i][0])\n",
    "    ax[i][1] = plot_frame(ax[i][1])\n",
    "    ax[i][0].set_title(f'Train set - {col}', fontsize=14, color='w')\n",
    "    ax[i][1].set_title(f'Test set - {col}', fontsize=14, color='w')\n",
    "    ax[i][0].set_xticklabels(ax[i][0].get_xticklabels(), rotation=0)\n",
    "    ax[i][1].set_xticklabels(ax[i][1].get_xticklabels(), rotation=0)\n",
    "    i += 1"
   ]
  },
  {
   "cell_type": "code",
   "execution_count": 7,
   "id": "d472fd8b",
   "metadata": {},
   "outputs": [
    {
     "data": {
      "image/png": "[encoded data removed]",
      "text/plain": [
       "<Figure size 1008x720 with 4 Axes>"
      ]
     },
     "metadata": {},
     "output_type": "display_data"
    }
   ],
   "source": [
    "fig, ax = plt.subplots(2, 2, figsize=(14, 10), facecolor='#292525', sharey=True)\n",
    "\n",
    "i=0\n",
    "\n",
    "for col in ['Age', 'Fare']:\n",
    "    sns.kdeplot(df_train[col], ax=ax[i][0], shade=True, color='#C3C92E')\n",
    "    sns.kdeplot(df_test[col], ax=ax[i][1], shade=True, color='#C93D2E')\n",
    "    ax[i][0] = plot_frame(ax[i][0])\n",
    "    ax[i][1] = plot_frame(ax[i][1])\n",
    "    ax[i][0].set_title(f'Train set - {col}', fontsize=14, color='w')\n",
    "    ax[i][1].set_title(f'Test set - {col}', fontsize=14, color='w')\n",
    "    ax[i][0].set_xlabel('')\n",
    "    ax[i][1].set_xlabel('')\n",
    "    i += 1"
   ]
  },
  {
   "cell_type": "code",
   "execution_count": 8,
   "id": "90572b53",
   "metadata": {},
   "outputs": [
    {
     "data": {
      "text/plain": [
       "(100000, 12)"
      ]
     },
     "execution_count": 8,
     "metadata": {},
     "output_type": "execute_result"
    }
   ],
   "source": [
    "df_train.shape"
   ]
  },
  {
   "cell_type": "code",
   "execution_count": 9,
   "id": "62bf8422",
   "metadata": {},
   "outputs": [
    {
     "data": {
      "text/plain": [
       "(100000, 11)"
      ]
     },
     "execution_count": 9,
     "metadata": {},
     "output_type": "execute_result"
    }
   ],
   "source": [
    "df_test.shape"
   ]
  },
  {
   "cell_type": "code",
   "execution_count": 10,
   "id": "4c6e26d9",
   "metadata": {},
   "outputs": [
    {
     "data": {
      "text/plain": [
       "18151"
      ]
     },
     "execution_count": 10,
     "metadata": {},
     "output_type": "execute_result"
    }
   ],
   "source": [
    "len(set(set(df_train.Ticket).intersection(set(df_test.Ticket))))"
   ]
  },
  {
   "cell_type": "code",
   "execution_count": 12,
   "id": "574f690c",
   "metadata": {},
   "outputs": [
    {
     "data": {
      "text/html": [
       "<div>\n",
       "<style scoped>\n",
       "    .dataframe tbody tr th:only-of-type {\n",
       "        vertical-align: middle;\n",
       "    }\n",
       "\n",
       "    .dataframe tbody tr th {\n",
       "        vertical-align: top;\n",
       "    }\n",
       "\n",
       "    .dataframe thead th {\n",
       "        text-align: right;\n",
       "    }\n",
       "</style>\n",
       "<table border=\"1\" class=\"dataframe\">\n",
       "  <thead>\n",
       "    <tr style=\"text-align: right;\">\n",
       "      <th></th>\n",
       "      <th>PassengerId</th>\n",
       "      <th>Survived</th>\n",
       "      <th>Pclass</th>\n",
       "      <th>Name</th>\n",
       "      <th>Sex</th>\n",
       "      <th>Age</th>\n",
       "      <th>SibSp</th>\n",
       "      <th>Parch</th>\n",
       "      <th>Ticket</th>\n",
       "      <th>Fare</th>\n",
       "      <th>Cabin</th>\n",
       "      <th>Embarked</th>\n",
       "    </tr>\n",
       "  </thead>\n",
       "  <tbody>\n",
       "    <tr>\n",
       "      <th>3539</th>\n",
       "      <td>3539</td>\n",
       "      <td>0</td>\n",
       "      <td>1</td>\n",
       "      <td>Beauregard, Dorothy</td>\n",
       "      <td>female</td>\n",
       "      <td>65.0</td>\n",
       "      <td>0</td>\n",
       "      <td>0</td>\n",
       "      <td>31899</td>\n",
       "      <td>107.37</td>\n",
       "      <td>D12882</td>\n",
       "      <td>C</td>\n",
       "    </tr>\n",
       "    <tr>\n",
       "      <th>73979</th>\n",
       "      <td>73979</td>\n",
       "      <td>0</td>\n",
       "      <td>3</td>\n",
       "      <td>Lafleche, Ted</td>\n",
       "      <td>male</td>\n",
       "      <td>65.0</td>\n",
       "      <td>0</td>\n",
       "      <td>0</td>\n",
       "      <td>10818</td>\n",
       "      <td>9.56</td>\n",
       "      <td>NaN</td>\n",
       "      <td>S</td>\n",
       "    </tr>\n",
       "    <tr>\n",
       "      <th>34901</th>\n",
       "      <td>34901</td>\n",
       "      <td>1</td>\n",
       "      <td>3</td>\n",
       "      <td>Westphal, Lawana</td>\n",
       "      <td>female</td>\n",
       "      <td>69.0</td>\n",
       "      <td>0</td>\n",
       "      <td>0</td>\n",
       "      <td>31232</td>\n",
       "      <td>12.03</td>\n",
       "      <td>NaN</td>\n",
       "      <td>S</td>\n",
       "    </tr>\n",
       "    <tr>\n",
       "      <th>68546</th>\n",
       "      <td>68546</td>\n",
       "      <td>1</td>\n",
       "      <td>1</td>\n",
       "      <td>Scott, Catherine</td>\n",
       "      <td>female</td>\n",
       "      <td>19.0</td>\n",
       "      <td>0</td>\n",
       "      <td>0</td>\n",
       "      <td>18047</td>\n",
       "      <td>104.19</td>\n",
       "      <td>A20272</td>\n",
       "      <td>C</td>\n",
       "    </tr>\n",
       "    <tr>\n",
       "      <th>74345</th>\n",
       "      <td>74345</td>\n",
       "      <td>1</td>\n",
       "      <td>1</td>\n",
       "      <td>Moore, Latoya</td>\n",
       "      <td>female</td>\n",
       "      <td>42.0</td>\n",
       "      <td>0</td>\n",
       "      <td>0</td>\n",
       "      <td>14324</td>\n",
       "      <td>117.41</td>\n",
       "      <td>C17491</td>\n",
       "      <td>C</td>\n",
       "    </tr>\n",
       "  </tbody>\n",
       "</table>\n",
       "</div>"
      ],
      "text/plain": [
       "       PassengerId  Survived  Pclass                 Name     Sex   Age  \\\n",
       "3539          3539         0       1  Beauregard, Dorothy  female  65.0   \n",
       "73979        73979         0       3        Lafleche, Ted    male  65.0   \n",
       "34901        34901         1       3     Westphal, Lawana  female  69.0   \n",
       "68546        68546         1       1     Scott, Catherine  female  19.0   \n",
       "74345        74345         1       1        Moore, Latoya  female  42.0   \n",
       "\n",
       "       SibSp  Parch Ticket    Fare   Cabin Embarked  \n",
       "3539       0      0  31899  107.37  D12882        C  \n",
       "73979      0      0  10818    9.56     NaN        S  \n",
       "34901      0      0  31232   12.03     NaN        S  \n",
       "68546      0      0  18047  104.19  A20272        C  \n",
       "74345      0      0  14324  117.41  C17491        C  "
      ]
     },
     "execution_count": 12,
     "metadata": {},
     "output_type": "execute_result"
    }
   ],
   "source": [
    "train, test = tml.make_test(df_train, 0.25, random_state=324, strat_feat=['Pclass', 'Sex'])\n",
    "\n",
    "train.head()"
   ]
  },
  {
   "cell_type": "code",
   "execution_count": 13,
   "id": "5bb0e552",
   "metadata": {},
   "outputs": [
    {
     "data": {
      "text/plain": [
       "Embarked\n",
       "C    0.750314\n",
       "Q    0.596686\n",
       "S    0.316018\n",
       "Name: Survived, dtype: float64"
      ]
     },
     "execution_count": 13,
     "metadata": {},
     "output_type": "execute_result"
    }
   ],
   "source": [
    "train.groupby('Embarked').Survived.mean()"
   ]
  },
  {
   "cell_type": "code",
   "execution_count": 16,
   "id": "4457500e",
   "metadata": {},
   "outputs": [
    {
     "data": {
      "text/html": [
       "<div>\n",
       "<style scoped>\n",
       "    .dataframe tbody tr th:only-of-type {\n",
       "        vertical-align: middle;\n",
       "    }\n",
       "\n",
       "    .dataframe tbody tr th {\n",
       "        vertical-align: top;\n",
       "    }\n",
       "\n",
       "    .dataframe thead th {\n",
       "        text-align: right;\n",
       "    }\n",
       "</style>\n",
       "<table border=\"1\" class=\"dataframe\">\n",
       "  <thead>\n",
       "    <tr style=\"text-align: right;\">\n",
       "      <th>Sex</th>\n",
       "      <th>female</th>\n",
       "      <th>male</th>\n",
       "    </tr>\n",
       "    <tr>\n",
       "      <th>Embarked</th>\n",
       "      <th></th>\n",
       "      <th></th>\n",
       "    </tr>\n",
       "  </thead>\n",
       "  <tbody>\n",
       "    <tr>\n",
       "      <th>C</th>\n",
       "      <td>0.846368</td>\n",
       "      <td>0.513491</td>\n",
       "    </tr>\n",
       "    <tr>\n",
       "      <th>Q</th>\n",
       "      <td>0.702239</td>\n",
       "      <td>0.342327</td>\n",
       "    </tr>\n",
       "    <tr>\n",
       "      <th>S</th>\n",
       "      <td>0.627565</td>\n",
       "      <td>0.159522</td>\n",
       "    </tr>\n",
       "  </tbody>\n",
       "</table>\n",
       "</div>"
      ],
      "text/plain": [
       "Sex         female      male\n",
       "Embarked                    \n",
       "C         0.846368  0.513491\n",
       "Q         0.702239  0.342327\n",
       "S         0.627565  0.159522"
      ]
     },
     "execution_count": 16,
     "metadata": {},
     "output_type": "execute_result"
    }
   ],
   "source": [
    "train.groupby(['Embarked', 'Sex']).Survived.mean().unstack()"
   ]
  },
  {
   "cell_type": "code",
   "execution_count": 17,
   "id": "b3bf726a",
   "metadata": {},
   "outputs": [
    {
     "data": {
      "text/plain": [
       "Embarked\n",
       "C    1.657244\n",
       "Q    1.459941\n",
       "S    2.294474\n",
       "Name: Pclass, dtype: float64"
      ]
     },
     "execution_count": 17,
     "metadata": {},
     "output_type": "execute_result"
    }
   ],
   "source": [
    "train.groupby('Embarked').Pclass.mean()"
   ]
  },
  {
   "cell_type": "code",
   "execution_count": 18,
   "id": "f4b90650",
   "metadata": {},
   "outputs": [
    {
     "data": {
      "text/html": [
       "<div>\n",
       "<style scoped>\n",
       "    .dataframe tbody tr th:only-of-type {\n",
       "        vertical-align: middle;\n",
       "    }\n",
       "\n",
       "    .dataframe tbody tr th {\n",
       "        vertical-align: top;\n",
       "    }\n",
       "\n",
       "    .dataframe thead th {\n",
       "        text-align: right;\n",
       "    }\n",
       "</style>\n",
       "<table border=\"1\" class=\"dataframe\">\n",
       "  <thead>\n",
       "    <tr style=\"text-align: right;\">\n",
       "      <th>Pclass</th>\n",
       "      <th>1</th>\n",
       "      <th>2</th>\n",
       "      <th>3</th>\n",
       "    </tr>\n",
       "    <tr>\n",
       "      <th>Embarked</th>\n",
       "      <th></th>\n",
       "      <th></th>\n",
       "      <th></th>\n",
       "    </tr>\n",
       "  </thead>\n",
       "  <tbody>\n",
       "    <tr>\n",
       "      <th>C</th>\n",
       "      <td>0.773080</td>\n",
       "      <td>0.817221</td>\n",
       "      <td>0.588644</td>\n",
       "    </tr>\n",
       "    <tr>\n",
       "      <th>Q</th>\n",
       "      <td>0.632704</td>\n",
       "      <td>0.640065</td>\n",
       "      <td>0.391653</td>\n",
       "    </tr>\n",
       "    <tr>\n",
       "      <th>S</th>\n",
       "      <td>0.408677</td>\n",
       "      <td>0.436883</td>\n",
       "      <td>0.205384</td>\n",
       "    </tr>\n",
       "  </tbody>\n",
       "</table>\n",
       "</div>"
      ],
      "text/plain": [
       "Pclass           1         2         3\n",
       "Embarked                              \n",
       "C         0.773080  0.817221  0.588644\n",
       "Q         0.632704  0.640065  0.391653\n",
       "S         0.408677  0.436883  0.205384"
      ]
     },
     "execution_count": 18,
     "metadata": {},
     "output_type": "execute_result"
    }
   ],
   "source": [
    "train.groupby(['Embarked', 'Pclass']).Survived.mean().unstack()"
   ]
  },
  {
   "cell_type": "code",
   "execution_count": 19,
   "id": "ec74f721",
   "metadata": {},
   "outputs": [
    {
     "data": {
      "text/html": [
       "<div>\n",
       "<style scoped>\n",
       "    .dataframe tbody tr th:only-of-type {\n",
       "        vertical-align: middle;\n",
       "    }\n",
       "\n",
       "    .dataframe tbody tr th {\n",
       "        vertical-align: top;\n",
       "    }\n",
       "\n",
       "    .dataframe thead th {\n",
       "        text-align: right;\n",
       "    }\n",
       "</style>\n",
       "<table border=\"1\" class=\"dataframe\">\n",
       "  <thead>\n",
       "    <tr style=\"text-align: right;\">\n",
       "      <th>Pclass</th>\n",
       "      <th>1</th>\n",
       "      <th>2</th>\n",
       "      <th>3</th>\n",
       "    </tr>\n",
       "    <tr>\n",
       "      <th>Sex</th>\n",
       "      <th></th>\n",
       "      <th></th>\n",
       "      <th></th>\n",
       "    </tr>\n",
       "  </thead>\n",
       "  <tbody>\n",
       "    <tr>\n",
       "      <th>female</th>\n",
       "      <td>0.770041</td>\n",
       "      <td>0.768801</td>\n",
       "      <td>0.572904</td>\n",
       "    </tr>\n",
       "    <tr>\n",
       "      <th>male</th>\n",
       "      <td>0.364284</td>\n",
       "      <td>0.246740</td>\n",
       "      <td>0.106290</td>\n",
       "    </tr>\n",
       "  </tbody>\n",
       "</table>\n",
       "</div>"
      ],
      "text/plain": [
       "Pclass         1         2         3\n",
       "Sex                                 \n",
       "female  0.770041  0.768801  0.572904\n",
       "male    0.364284  0.246740  0.106290"
      ]
     },
     "execution_count": 19,
     "metadata": {},
     "output_type": "execute_result"
    }
   ],
   "source": [
    "train.groupby(['Sex', 'Pclass']).Survived.mean().unstack()"
   ]
  },
  {
   "cell_type": "code",
   "execution_count": 20,
   "id": "ff23f22f",
   "metadata": {},
   "outputs": [
    {
     "data": {
      "text/html": [
       "<div>\n",
       "<style scoped>\n",
       "    .dataframe tbody tr th:only-of-type {\n",
       "        vertical-align: middle;\n",
       "    }\n",
       "\n",
       "    .dataframe tbody tr th {\n",
       "        vertical-align: top;\n",
       "    }\n",
       "\n",
       "    .dataframe thead th {\n",
       "        text-align: right;\n",
       "    }\n",
       "</style>\n",
       "<table border=\"1\" class=\"dataframe\">\n",
       "  <thead>\n",
       "    <tr style=\"text-align: right;\">\n",
       "      <th>Pclass</th>\n",
       "      <th>1</th>\n",
       "      <th>2</th>\n",
       "      <th>3</th>\n",
       "    </tr>\n",
       "    <tr>\n",
       "      <th>Embarked</th>\n",
       "      <th></th>\n",
       "      <th></th>\n",
       "      <th></th>\n",
       "    </tr>\n",
       "  </thead>\n",
       "  <tbody>\n",
       "    <tr>\n",
       "      <th>C</th>\n",
       "      <td>8893</td>\n",
       "      <td>4634</td>\n",
       "      <td>3170</td>\n",
       "    </tr>\n",
       "    <tr>\n",
       "      <th>Q</th>\n",
       "      <td>2807</td>\n",
       "      <td>614</td>\n",
       "      <td>623</td>\n",
       "    </tr>\n",
       "    <tr>\n",
       "      <th>S</th>\n",
       "      <td>10972</td>\n",
       "      <td>16208</td>\n",
       "      <td>26896</td>\n",
       "    </tr>\n",
       "  </tbody>\n",
       "</table>\n",
       "</div>"
      ],
      "text/plain": [
       "Pclass        1      2      3\n",
       "Embarked                     \n",
       "C          8893   4634   3170\n",
       "Q          2807    614    623\n",
       "S         10972  16208  26896"
      ]
     },
     "execution_count": 20,
     "metadata": {},
     "output_type": "execute_result"
    }
   ],
   "source": [
    "train.groupby(['Embarked', 'Pclass']).size().unstack()"
   ]
  },
  {
   "cell_type": "code",
   "execution_count": 22,
   "id": "fcf29562",
   "metadata": {},
   "outputs": [
    {
     "name": "stdout",
     "output_type": "stream",
     "text": [
      "0.4808743169398907\n",
      "0.4281112581365198\n"
     ]
    }
   ],
   "source": [
    "col = 'Embarked'\n",
    "\n",
    "print(train[train[col].isna()].Survived.mean())\n",
    "print(train[train[col].notna()].Survived.mean())"
   ]
  },
  {
   "cell_type": "code",
   "execution_count": 23,
   "id": "c0289c81",
   "metadata": {},
   "outputs": [
    {
     "name": "stdout",
     "output_type": "stream",
     "text": [
      "0.41359773371104813\n",
      "0.42873884928787104\n"
     ]
    }
   ],
   "source": [
    "col = 'Age'\n",
    "\n",
    "print(train[train[col].isna()].Survived.mean())\n",
    "print(train[train[col].notna()].Survived.mean())"
   ]
  },
  {
   "cell_type": "code",
   "execution_count": 24,
   "id": "13fb3cff",
   "metadata": {},
   "outputs": [
    {
     "name": "stdout",
     "output_type": "stream",
     "text": [
      "0.3424606446040906\n",
      "0.6099193481333666\n"
     ]
    }
   ],
   "source": [
    "col = 'Cabin'\n",
    "\n",
    "print(train[train[col].isna()].Survived.mean())\n",
    "print(train[train[col].notna()].Survived.mean())"
   ]
  },
  {
   "cell_type": "code",
   "execution_count": 25,
   "id": "b8311129",
   "metadata": {},
   "outputs": [
    {
     "name": "stdout",
     "output_type": "stream",
     "text": [
      "0.5284319356691557\n",
      "0.4233619508375514\n"
     ]
    }
   ],
   "source": [
    "col = 'Ticket'\n",
    "\n",
    "print(train[train[col].isna()].Survived.mean())\n",
    "print(train[train[col].notna()].Survived.mean())"
   ]
  },
  {
   "cell_type": "code",
   "execution_count": null,
   "id": "f39bccef",
   "metadata": {},
   "outputs": [],
   "source": []
  }
 ],
 "metadata": {
  "kernelspec": {
   "display_name": "Python 3",
   "language": "python",
   "name": "python3"
  },
  "language_info": {
   "codemirror_mode": {
    "name": "ipython",
    "version": 3
   },
   "file_extension": ".py",
   "mimetype": "text/x-python",
   "name": "python",
   "nbconvert_exporter": "python",
   "pygments_lexer": "ipython3",
   "version": "3.8.5"
  }
 },
 "nbformat": 4,
 "nbformat_minor": 5
}
