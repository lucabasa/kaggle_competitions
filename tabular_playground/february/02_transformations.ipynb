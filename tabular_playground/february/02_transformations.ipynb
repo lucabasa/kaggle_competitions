{
 "cells": [
  {
   "cell_type": "code",
   "execution_count": 1,
   "id": "entire-tourist",
   "metadata": {},
   "outputs": [],
   "source": [
    "import pandas as pd\n",
    "import numpy as np\n",
    "\n",
    "from tubesml.base import BaseTransformer, self_columns, reset_columns\n",
    "import tubesml as tml\n",
    "\n",
    "from sklearn.pipeline import Pipeline\n",
    "\n",
    "from source import explore as ex\n",
    "from source import utility as ut\n",
    "\n",
    "pd.set_option('max_columns', 100)"
   ]
  },
  {
   "cell_type": "code",
   "execution_count": 2,
   "id": "responsible-governor",
   "metadata": {},
   "outputs": [],
   "source": [
    "df_train = pd.read_csv('data/train.csv')\n",
    "df_test = pd.read_csv('data/test.csv')\n",
    "subs = pd.read_csv('data/sample_submission.csv')"
   ]
  },
  {
   "cell_type": "code",
   "execution_count": 3,
   "id": "animal-today",
   "metadata": {},
   "outputs": [],
   "source": [
    "train_set, test_set = ut.make_test(df_train, 0.25, random_state=516, strat_feat='cat9')"
   ]
  },
  {
   "cell_type": "code",
   "execution_count": 39,
   "id": "liberal-interim",
   "metadata": {},
   "outputs": [],
   "source": [
    "class CatSimp(BaseTransformer):\n",
    "    def __init__(self, cat7=True, cat6=True, cat8=True, cat4=True, cat9=True):\n",
    "        super().__init__()\n",
    "        self.cat7 = cat7\n",
    "        self.cat6 = cat6\n",
    "        self.cat8 = cat8\n",
    "        self.cat4 = cat4\n",
    "        self.cat9 = cat9\n",
    "     \n",
    "    \n",
    "    def cat7_tr(self, X):\n",
    "        X_tr = X.copy()\n",
    "        \n",
    "        if self.cat7:\n",
    "            X_tr['cat7'] = X_tr['cat7'].map({'C': 'E', \n",
    "                                             'A': 'B', \n",
    "                                             'F': 'G', \n",
    "                                             'I': 'G'}).fillna(X_tr['cat7'])\n",
    "        \n",
    "        return X_tr\n",
    "    \n",
    "    \n",
    "    def cat6_tr(self, X):\n",
    "        X_tr = X.copy()\n",
    "        \n",
    "        if self.cat6:\n",
    "            X_tr.loc[X_tr['cat6'] != 'A', 'cat6'] = 'B'\n",
    "        \n",
    "        return X_tr\n",
    "    \n",
    "    \n",
    "    def cat8_tr(self, X):\n",
    "        X_tr = X.copy()\n",
    "        \n",
    "        if self.cat8:\n",
    "            X_tr['cat8'] = X_tr['cat8'].map({'B': 'E', 'F': 'E'}).fillna(X_tr['cat8'])\n",
    "        \n",
    "        return X_tr\n",
    "    \n",
    "    \n",
    "    def cat4_tr(self, X):\n",
    "        X_tr = X.copy()\n",
    "        \n",
    "        if self.cat4:\n",
    "            X_tr['cat4'] = X_tr['cat4'].map({'D': 'A'}).fillna(X_tr['cat4'])\n",
    "        \n",
    "        return X_tr\n",
    "    \n",
    "    \n",
    "    def cat9_tr(self, X):\n",
    "        X_tr = X.copy()\n",
    "        \n",
    "        if self.cat9:\n",
    "            X_tr['cat9'] = X_tr['cat9'].map({'E': 'L', 'D': 'J', 'C': 'L'}).fillna(X_tr['cat9'])\n",
    "        \n",
    "        return X_tr\n",
    "    \n",
    "    @self_columns\n",
    "    def transform(self, X, y=None):\n",
    "        \n",
    "        Xtransf = self.cat7_tr(X)\n",
    "        Xtransf = self.cat6_tr(Xtransf)\n",
    "        Xtransf = self.cat8_tr(Xtransf)\n",
    "        Xtransf = self.cat4_tr(Xtransf)\n",
    "        Xtransf = self.cat9_tr(Xtransf)\n",
    "        \n",
    "        return Xtransf"
   ]
  },
  {
   "cell_type": "code",
   "execution_count": 40,
   "id": "straight-tyler",
   "metadata": {},
   "outputs": [],
   "source": [
    "numeric_pipe = Pipeline([('fs', tml.DtypeSel('numeric'))])\n",
    "\n",
    "\n",
    "cat_pipe = Pipeline([('fs', tml.DtypeSel('category')),\n",
    "                     ('simp', CatSimp())])#,\n",
    "                     #('dummies', tml.Dummify(match_cols=True))])\n",
    "\n",
    "\n",
    "processing_pipe = tml.FeatureUnionDf(transformer_list=[('cat_pipe', cat_pipe),\n",
    "                                                 ('num_pipe', numeric_pipe)])\n",
    "\n",
    "\n",
    "full_pipe = Pipeline([('processing', processing_pipe)])#, \n",
    "                      #('scaler', tml.DfScaler())])"
   ]
  },
  {
   "cell_type": "code",
   "execution_count": 41,
   "id": "subsequent-haven",
   "metadata": {},
   "outputs": [],
   "source": [
    "tmp = train_set.copy()\n",
    "\n",
    "tmp = full_pipe.fit_transform(tmp)"
   ]
  },
  {
   "cell_type": "code",
   "execution_count": 42,
   "id": "studied-vessel",
   "metadata": {},
   "outputs": [
    {
     "data": {
      "text/plain": [
       "F    80461\n",
       "I    37548\n",
       "L    31862\n",
       "H    18569\n",
       "K    15716\n",
       "A    10056\n",
       "G     7807\n",
       "M     7378\n",
       "J     5313\n",
       "O     4630\n",
       "N     3084\n",
       "B     2576\n",
       "Name: cat9, dtype: int64"
      ]
     },
     "execution_count": 42,
     "metadata": {},
     "output_type": "execute_result"
    }
   ],
   "source": [
    "tmp.cat9.value_counts()"
   ]
  },
  {
   "cell_type": "code",
   "execution_count": null,
   "id": "logical-citizen",
   "metadata": {},
   "outputs": [],
   "source": []
  },
  {
   "cell_type": "code",
   "execution_count": null,
   "id": "played-knife",
   "metadata": {},
   "outputs": [],
   "source": []
  }
 ],
 "metadata": {
  "kernelspec": {
   "display_name": "Python 3",
   "language": "python",
   "name": "python3"
  },
  "language_info": {
   "codemirror_mode": {
    "name": "ipython",
    "version": 3
   },
   "file_extension": ".py",
   "mimetype": "text/x-python",
   "name": "python",
   "nbconvert_exporter": "python",
   "pygments_lexer": "ipython3",
   "version": "3.8.5"
  }
 },
 "nbformat": 4,
 "nbformat_minor": 5
}
