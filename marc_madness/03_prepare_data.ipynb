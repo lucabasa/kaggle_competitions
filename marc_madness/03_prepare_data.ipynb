{
 "cells": [
  {
   "cell_type": "code",
   "execution_count": 1,
   "metadata": {},
   "outputs": [],
   "source": [
    "import pandas as pd\n",
    "import numpy as np\n",
    "\n",
    "import seaborn as sns\n",
    "import matplotlib.pyplot as plt\n",
    "%matplotlib inline\n",
    "\n",
    "from source.aggregated_stats import process_details, full_stats\n",
    "from source.make_train_test import make_teams_target, make_training_data, add_seed, prepare_data\n",
    "\n",
    "pd.set_option(\"max_columns\", 300)"
   ]
  },
  {
   "cell_type": "code",
   "execution_count": 2,
   "metadata": {},
   "outputs": [],
   "source": [
    "regular_season = 'data/raw_men/MDataFiles_Stage1/MRegularSeasonDetailedResults.csv'\n",
    "playoff = 'data/raw_men/MDataFiles_Stage1/MNCAATourneyDetailedResults.csv'\n",
    "playoff_compact = 'data/raw_men/MDataFiles_Stage1/MNCAATourneyCompactResults.csv'\n",
    "seed = 'data/raw_men/MDataFiles_Stage1/MNCAATourneySeeds.csv'\n",
    "rank = 'data/raw_men/MDataFiles_Stage1/MMasseyOrdinals.csv'\n",
    "save_loc = 'data/processed_men/'"
   ]
  },
  {
   "cell_type": "code",
   "execution_count": null,
   "metadata": {},
   "outputs": [],
   "source": [
    "reg = pd.read_csv(regular_season)\n",
    "reg = process_details(reg)\n",
    "reg.to_csv(save_loc + 'game_details_regular_extended.csv', index=False)\n",
    "regular_stats = full_stats(reg)\n",
    "print(regular_stats.Season.max())\n",
    "\n",
    "regular_stats.head()"
   ]
  },
  {
   "cell_type": "code",
   "execution_count": null,
   "metadata": {},
   "outputs": [],
   "source": [
    "last2weeks = reg[reg.DayNum >= 118].copy()\n",
    "last2weeks = full_stats(last2weeks)\n",
    "last2weeks.columns = ['L2W_' + col for col in last2weeks]\n",
    "last2weeks.rename(columns={'L2W_Season': 'Season', 'L2W_TeamID': 'TeamID'}, inplace=True)\n",
    "last2weeks.head()"
   ]
  },
  {
   "cell_type": "code",
   "execution_count": null,
   "metadata": {},
   "outputs": [],
   "source": [
    "regular_stats = pd.merge(regular_stats, last2weeks, on=['Season', 'TeamID'], how='left')\n",
    "print(regular_stats.Season.max())\n",
    "\n",
    "regular_stats.head()"
   ]
  },
  {
   "cell_type": "code",
   "execution_count": null,
   "metadata": {},
   "outputs": [],
   "source": [
    "play = pd.read_csv(playoff)\n",
    "play = process_details(play)\n",
    "play.to_csv(save_loc + 'game_details_playoff_extended.csv', index=False)\n",
    "playoff_stats = full_stats(play)\n",
    "print(playoff_stats.Season.max())\n",
    "\n",
    "playoff_stats.head()"
   ]
  },
  {
   "cell_type": "code",
   "execution_count": null,
   "metadata": {},
   "outputs": [],
   "source": [
    "target_data = pd.read_csv(playoff_compact)\n",
    "target_data = make_teams_target(target_data, 'men')\n",
    "print(target_data.shape)\n",
    "print(target_data.Season.max())\n",
    "target_data.head()"
   ]
  },
  {
   "cell_type": "code",
   "execution_count": null,
   "metadata": {},
   "outputs": [],
   "source": [
    "regular_stats = add_seed(seed, regular_stats)\n",
    "print(regular_stats.Seed.isna().mean())\n",
    "regular_stats.head()"
   ]
  },
  {
   "cell_type": "code",
   "execution_count": null,
   "metadata": {},
   "outputs": [],
   "source": [
    "playoff_stats = add_seed(seed, playoff_stats)\n",
    "print(playoff_stats.Seed.isna().mean())\n",
    "playoff_stats.head()"
   ]
  },
  {
   "cell_type": "code",
   "execution_count": null,
   "metadata": {},
   "outputs": [],
   "source": [
    "all_reg = make_training_data(regular_stats, target_data)\n",
    "\n",
    "all_reg.head()"
   ]
  },
  {
   "cell_type": "markdown",
   "metadata": {},
   "source": [
    "# Testing the function for both tournaments"
   ]
  },
  {
   "cell_type": "code",
   "execution_count": null,
   "metadata": {},
   "outputs": [],
   "source": [
    "all_reg = prepare_data('men')\n",
    "\n",
    "all_reg.head()"
   ]
  },
  {
   "cell_type": "code",
   "execution_count": null,
   "metadata": {},
   "outputs": [],
   "source": [
    "all_reg = prepare_data('women')\n",
    "\n",
    "all_reg.head()"
   ]
  },
  {
   "cell_type": "code",
   "execution_count": null,
   "metadata": {},
   "outputs": [],
   "source": []
  }
 ],
 "metadata": {
  "kernelspec": {
   "display_name": "Python 3",
   "language": "python",
   "name": "python3"
  },
  "language_info": {
   "codemirror_mode": {
    "name": "ipython",
    "version": 3
   },
   "file_extension": ".py",
   "mimetype": "text/x-python",
   "name": "python",
   "nbconvert_exporter": "python",
   "pygments_lexer": "ipython3",
   "version": "3.6.9"
  }
 },
 "nbformat": 4,
 "nbformat_minor": 4
}
